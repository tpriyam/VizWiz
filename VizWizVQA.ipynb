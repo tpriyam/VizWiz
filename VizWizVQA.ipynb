{
  "nbformat": 4,
  "nbformat_minor": 0,
  "metadata": {
    "colab": {
      "name": "VizWizVQA.ipynb",
      "provenance": []
    },
    "kernelspec": {
      "name": "python3",
      "display_name": "Python 3"
    },
    "language_info": {
      "name": "python"
    },
    "accelerator": "GPU"
  },
  "cells": [
    {
      "cell_type": "code",
      "execution_count": null,
      "metadata": {
        "id": "tPuee1zr-_sl"
      },
      "outputs": [],
      "source": [
        "## PART 1. Set up the VizWiz-VQA dataset\n",
        "\n",
        "img_dir = \"https://vizwiz.cs.colorado.edu//VizWiz_visualization_img/\"\n",
        "split_train = 'train' \n",
        "split_val = 'val'\n",
        "split_test = 'test'\n",
        "annotation_file_train = \"https://ivc.ischool.utexas.edu/VizWiz_final/vqa_data/Annotations/%s.json\" %split_train\n",
        "annotation_file_val = \"https://ivc.ischool.utexas.edu/VizWiz_final/vqa_data/Annotations/%s.json\" %split_val\n",
        "annotation_file_test = \"https://ivc.ischool.utexas.edu/VizWiz_final/vqa_data/Annotations/%s.json\" %split_test"
      ]
    },
    {
      "cell_type": "code",
      "source": [
        "import pandas as pd\n",
        "import numpy as np\n",
        "import matplotlib.pyplot as plt\n",
        "%matplotlib inline\n",
        "from skimage.io import imread, imshow"
      ],
      "metadata": {
        "id": "maUdohOt_DnV"
      },
      "execution_count": null,
      "outputs": []
    },
    {
      "cell_type": "code",
      "source": [
        "## Visualize image given a url\n",
        "from skimage import io\n",
        "def visualize_image(image_url):\n",
        "  image = io.imread(image_url)\n",
        "  print(image_url)\n",
        "  plt.imshow(image)\n",
        "  plt.axis(\"off\")\n",
        "  plt.show()"
      ],
      "metadata": {
        "id": "HFuHVMXD_FQm"
      },
      "execution_count": null,
      "outputs": []
    },
    {
      "cell_type": "code",
      "source": [
        "# Read the file to extract each dataset example with label\n",
        "import requests\n",
        "import numpy as np\n",
        "\n",
        "split_data_train = requests.get(annotation_file_train, allow_redirects=True)\n",
        "split_data_val = requests.get(annotation_file_val, allow_redirects=True)\n",
        "split_data_test = requests.get(annotation_file_test, allow_redirects=True)\n",
        "train_data = split_data_train.json()\n",
        "val_data = split_data_val.json()\n",
        "test_data = split_data_test.json()"
      ],
      "metadata": {
        "id": "8o9LgLQe_G2i"
      },
      "execution_count": null,
      "outputs": []
    },
    {
      "cell_type": "code",
      "source": [
        "#Create vocabulary\n",
        "texts=[]\n",
        "for i in train_data:\n",
        "  texts.append(i['question'])\n",
        "vocab = sorted(set(word for sentence in texts for word in sentence.split()))"
      ],
      "metadata": {
        "id": "5yXTuUIlASR5"
      },
      "execution_count": null,
      "outputs": []
    },
    {
      "cell_type": "code",
      "source": [
        "from nltk.tokenize import word_tokenize\n",
        "from nltk.corpus import stopwords\n",
        "from nltk.stem import PorterStemmer\n",
        "import nltk"
      ],
      "metadata": {
        "id": "-tcVLTTbADSM"
      },
      "execution_count": null,
      "outputs": []
    },
    {
      "cell_type": "code",
      "source": [
        "nltk.download('stopwords')\n",
        "nltk.download('punkt')"
      ],
      "metadata": {
        "colab": {
          "base_uri": "https://localhost:8080/"
        },
        "id": "0H3mkD1WAaNy",
        "outputId": "4a7efedd-a062-448f-eb46-77da0922d5ff"
      },
      "execution_count": null,
      "outputs": [
        {
          "output_type": "stream",
          "name": "stdout",
          "text": [
            "[nltk_data] Downloading package stopwords to /root/nltk_data...\n",
            "[nltk_data]   Package stopwords is already up-to-date!\n",
            "[nltk_data] Downloading package punkt to /root/nltk_data...\n",
            "[nltk_data]   Package punkt is already up-to-date!\n"
          ]
        },
        {
          "output_type": "execute_result",
          "data": {
            "text/plain": [
              "True"
            ]
          },
          "metadata": {},
          "execution_count": 43
        }
      ]
    },
    {
      "cell_type": "code",
      "source": [
        "from tensorflow.keras.applications.vgg16 import VGG16\n",
        "from tensorflow.keras.preprocessing import image\n",
        "from tensorflow.keras.applications.vgg16 import preprocess_input"
      ],
      "metadata": {
        "id": "eV_krpmppr83"
      },
      "execution_count": null,
      "outputs": []
    },
    {
      "cell_type": "code",
      "source": [
        "from PIL import Image\n",
        "import cv2"
      ],
      "metadata": {
        "id": "qBRCeAahr37R"
      },
      "execution_count": null,
      "outputs": []
    },
    {
      "cell_type": "code",
      "source": [
        "\n",
        "conv_base = VGG16(weights='imagenet',\n",
        "                  include_top=False,\n",
        "                  input_shape=(240, 240, 3))\n",
        "# VGG16 used for feature extraction "
      ],
      "metadata": {
        "id": "EXaY-NAvp654"
      },
      "execution_count": null,
      "outputs": []
    },
    {
      "cell_type": "code",
      "source": [
        "conv_base.summary()"
      ],
      "metadata": {
        "colab": {
          "base_uri": "https://localhost:8080/"
        },
        "id": "iXGmyrxHrBuq",
        "outputId": "60cba9d2-4873-4ade-8836-65147f7322f0"
      },
      "execution_count": null,
      "outputs": [
        {
          "output_type": "stream",
          "name": "stdout",
          "text": [
            "Model: \"vgg16\"\n",
            "_________________________________________________________________\n",
            " Layer (type)                Output Shape              Param #   \n",
            "=================================================================\n",
            " input_1 (InputLayer)        [(None, 240, 240, 3)]     0         \n",
            "                                                                 \n",
            " block1_conv1 (Conv2D)       (None, 240, 240, 64)      1792      \n",
            "                                                                 \n",
            " block1_conv2 (Conv2D)       (None, 240, 240, 64)      36928     \n",
            "                                                                 \n",
            " block1_pool (MaxPooling2D)  (None, 120, 120, 64)      0         \n",
            "                                                                 \n",
            " block2_conv1 (Conv2D)       (None, 120, 120, 128)     73856     \n",
            "                                                                 \n",
            " block2_conv2 (Conv2D)       (None, 120, 120, 128)     147584    \n",
            "                                                                 \n",
            " block2_pool (MaxPooling2D)  (None, 60, 60, 128)       0         \n",
            "                                                                 \n",
            " block3_conv1 (Conv2D)       (None, 60, 60, 256)       295168    \n",
            "                                                                 \n",
            " block3_conv2 (Conv2D)       (None, 60, 60, 256)       590080    \n",
            "                                                                 \n",
            " block3_conv3 (Conv2D)       (None, 60, 60, 256)       590080    \n",
            "                                                                 \n",
            " block3_pool (MaxPooling2D)  (None, 30, 30, 256)       0         \n",
            "                                                                 \n",
            " block4_conv1 (Conv2D)       (None, 30, 30, 512)       1180160   \n",
            "                                                                 \n",
            " block4_conv2 (Conv2D)       (None, 30, 30, 512)       2359808   \n",
            "                                                                 \n",
            " block4_conv3 (Conv2D)       (None, 30, 30, 512)       2359808   \n",
            "                                                                 \n",
            " block4_pool (MaxPooling2D)  (None, 15, 15, 512)       0         \n",
            "                                                                 \n",
            " block5_conv1 (Conv2D)       (None, 15, 15, 512)       2359808   \n",
            "                                                                 \n",
            " block5_conv2 (Conv2D)       (None, 15, 15, 512)       2359808   \n",
            "                                                                 \n",
            " block5_conv3 (Conv2D)       (None, 15, 15, 512)       2359808   \n",
            "                                                                 \n",
            " block5_pool (MaxPooling2D)  (None, 7, 7, 512)         0         \n",
            "                                                                 \n",
            "=================================================================\n",
            "Total params: 14,714,688\n",
            "Trainable params: 14,714,688\n",
            "Non-trainable params: 0\n",
            "_________________________________________________________________\n"
          ]
        }
      ]
    },
    {
      "cell_type": "code",
      "source": [
        "## PART 2: Template code to set up a VQA model\n",
        "\n",
        "def extract_image_features(image_url):\n",
        "  imag = imread(image_url) \n",
        "  imag = cv2.resize(imag, (240, 240))\n",
        "  imag = cv2.cvtColor(imag, cv2.COLOR_BGR2RGB)\n",
        "  feature_vector = conv_base.predict(imag.reshape(1, 240, 240, 3))\n",
        "  feature = np.reshape(feature_vector, (25088,))\n",
        "  return feature\n",
        "\n",
        "\n",
        "def extract_question_features(question):\n",
        "  output_vec = np.zeros(len(vocab))\n",
        "  words_ques = set(question.split())\n",
        "  for i, v in enumerate(vocab):\n",
        "      output_vec[i] = v in words_ques \n",
        "  return output_vec\n"
      ],
      "metadata": {
        "id": "LK7Yjmhg_MG6"
      },
      "execution_count": null,
      "outputs": []
    },
    {
      "cell_type": "code",
      "source": [
        "def find_most_frequent(answers):\n",
        "  all = []\n",
        "  for i in answers:\n",
        "    all.append(i['answer'])\n",
        "  return max(set(all), key = all.count)"
      ],
      "metadata": {
        "id": "29tL4PsTxsNg"
      },
      "execution_count": null,
      "outputs": []
    },
    {
      "cell_type": "code",
      "source": [
        "##Extracting validation data\n",
        "\n",
        "num_val = 544\n",
        "# X_val = [] ## features\n",
        "# y_val = [] ## target labels\n",
        "url_val = []\n",
        "name_val = []\n",
        "img_ft_val = []\n",
        "ques_val = []\n",
        "ques_ft_val = []\n",
        "ft_val = []\n",
        "lab_val = []\n",
        "for vq in val_data[0:num_val]:\n",
        "  # Extract features describing the image\n",
        "  image_name = vq['image']\n",
        "  name_val.append(image_name)\n",
        "  image_url = img_dir + image_name\n",
        "  url_val.append(image_url)\n",
        "  image_feature = extract_image_features(image_url)\n",
        "  img_ft_val.append(image_feature)\n",
        "\n",
        "  # Extract features describing the question\n",
        "  question = vq['question']\n",
        "  ques_val.append(question)\n",
        "  question_feature = extract_question_features(question)\n",
        "  ques_ft_val.append(question_feature)\n",
        "\n",
        "  # Create a multimodal feature to represent both the image and question (e.g. concatenate, multiply, etc.)\n",
        "  multimodal_features = np.concatenate((question_feature, image_feature))\n",
        "  ft_val.append(multimodal_features)\n",
        "\n",
        "  # Prepare features and labels\n",
        "  # X.append(multimodal_features)\n",
        "  answers = vq['answers']\n",
        "  label = find_most_frequent(answers)\n",
        "  lab_val.append(label)\n",
        "  # y.append(label)\n"
      ],
      "metadata": {
        "id": "Rt7UDC4imBkC"
      },
      "execution_count": null,
      "outputs": []
    },
    {
      "cell_type": "code",
      "source": [
        "## Extracting training data\n",
        "\n",
        "num_val = 4000\n",
        "# X_val = [] ## features\n",
        "# y_val = [] ## target labels\n",
        "url = []\n",
        "name = []\n",
        "img_ft = []\n",
        "ques = []\n",
        "ques_ft = []\n",
        "ft = []\n",
        "lab = []\n",
        "for vq in val_data[0:num_val]:\n",
        "\n",
        "\n",
        "  # Prepare features and labels\n",
        "  answers = vq['answers']\n",
        "  label = find_most_frequent(answers)\n",
        "  if label != 'unanswerable' and label!= 'unsuitable':\n",
        "    lab.append(label)\n",
        "  # Extract features describing the image\n",
        "    image_name = vq['image']\n",
        "    name.append(image_name)\n",
        "    image_url = img_dir + image_name\n",
        "    url.append(image_url)\n",
        "    image_feature = extract_image_features(image_url)\n",
        "    img_ft.append(image_feature)\n",
        "\n",
        "  # Extract features describing the question\n",
        "    question = vq['question']\n",
        "    ques.append(question)\n",
        "    question_feature = extract_question_features(question)\n",
        "    ques_ft.append(question_feature)\n",
        "\n",
        "  # Create a multimodal feature to represent both the image and question (e.g. concatenate, multiply, etc.)\n",
        "    multimodal_features = np.concatenate((question_feature, image_feature))\n",
        "    ft.append(multimodal_features)\n"
      ],
      "metadata": {
        "id": "ECTGBS4I789N"
      },
      "execution_count": null,
      "outputs": []
    },
    {
      "cell_type": "code",
      "source": [
        "column_names = [\"imageName\", \"url\", \"question\", \"image_feature\",\"question_feature\",\"feature\", \"label\"]\n",
        "\n",
        "df = pd.DataFrame(columns = column_names)"
      ],
      "metadata": {
        "id": "aSTpzChOoaYX"
      },
      "execution_count": null,
      "outputs": []
    },
    {
      "cell_type": "code",
      "source": [
        "df.url = url\n",
        "df.imageName = name\n",
        "df.question = ques\n",
        "df.image_feature = img_ft\n",
        "df.question_feature = ques_ft\n",
        "df.feature = ft\n",
        "df.label = lab"
      ],
      "metadata": {
        "id": "y8O3Togz6u66"
      },
      "execution_count": null,
      "outputs": []
    },
    {
      "cell_type": "code",
      "source": [
        "df_val = pd.DataFrame(columns = column_names)"
      ],
      "metadata": {
        "id": "C7OQzjnB62Jl"
      },
      "execution_count": null,
      "outputs": []
    },
    {
      "cell_type": "code",
      "source": [
        "df_val.url = url_val\n",
        "df_val.imageName = name_val\n",
        "df_val.question = ques_val\n",
        "df_val.image_feature = img_ft_val\n",
        "df_val.question_feature = ques_ft_val\n",
        "df_val.feature = ft_val\n",
        "df_val.label = lab_val"
      ],
      "metadata": {
        "id": "ly0b7nRJ7AfA"
      },
      "execution_count": null,
      "outputs": []
    },
    {
      "cell_type": "code",
      "source": [
        "df_val.to_csv(\"vizwiz_val.csv\")"
      ],
      "metadata": {
        "id": "8UZSTD0B7Qde"
      },
      "execution_count": null,
      "outputs": []
    },
    {
      "cell_type": "code",
      "source": [
        "from sklearn.model_selection import train_test_split"
      ],
      "metadata": {
        "id": "ArrkWcb18C5P"
      },
      "execution_count": null,
      "outputs": []
    },
    {
      "cell_type": "code",
      "source": [
        "import tensorflow as tf\n",
        "tf.test.gpu_device_name()"
      ],
      "metadata": {
        "colab": {
          "base_uri": "https://localhost:8080/",
          "height": 35
        },
        "id": "xtmP7_WQ7XWJ",
        "outputId": "0e003e88-95e0-484e-839c-67648b9a10c1"
      },
      "execution_count": null,
      "outputs": [
        {
          "output_type": "execute_result",
          "data": {
            "text/plain": [
              "'/device:GPU:0'"
            ],
            "application/vnd.google.colaboratory.intrinsic+json": {
              "type": "string"
            }
          },
          "metadata": {},
          "execution_count": 72
        }
      ]
    },
    {
      "cell_type": "code",
      "source": [
        "from sklearn.preprocessing import OneHotEncoder"
      ],
      "metadata": {
        "id": "2cEREJ0IFQLS"
      },
      "execution_count": null,
      "outputs": []
    },
    {
      "cell_type": "code",
      "source": [
        "one_hot=pd.get_dummies(df[\"label\"])\n",
        "onehot_val=pd.get_dummies(df_val[\"label\"])"
      ],
      "metadata": {
        "id": "KiCmB9sLVb0s"
      },
      "execution_count": null,
      "outputs": []
    },
    {
      "cell_type": "code",
      "source": [
        "X = df['feature']\n",
        "y = one_hot"
      ],
      "metadata": {
        "id": "JRUDYbUQ8FUg"
      },
      "execution_count": null,
      "outputs": []
    },
    {
      "cell_type": "code",
      "source": [
        "X_val = df_val['feature']\n",
        "y_val = onehot_val"
      ],
      "metadata": {
        "id": "3a_qAYT_o_tp"
      },
      "execution_count": null,
      "outputs": []
    },
    {
      "cell_type": "code",
      "source": [
        "X = X.to_list()\n",
        "y = y.values.tolist()\n"
      ],
      "metadata": {
        "id": "ikNmAlXrLBs4"
      },
      "execution_count": null,
      "outputs": []
    },
    {
      "cell_type": "code",
      "source": [
        "X_val = X_val.to_list()\n",
        "y_val = y_val.values.tolist()"
      ],
      "metadata": {
        "id": "QVMlucktpTjs"
      },
      "execution_count": null,
      "outputs": []
    },
    {
      "cell_type": "code",
      "source": [
        "for i in range(len(X)):\n",
        "  X[i] = np.asarray(X[i]).astype('float32')"
      ],
      "metadata": {
        "id": "R1sm7l5zLGFL"
      },
      "execution_count": null,
      "outputs": []
    },
    {
      "cell_type": "code",
      "source": [
        "for i in range(len(X_val)):\n",
        "  X_val[i] = np.asarray(X_val[i]).astype('float32')"
      ],
      "metadata": {
        "id": "WWUlWkXdpH2v"
      },
      "execution_count": null,
      "outputs": []
    },
    {
      "cell_type": "code",
      "source": [
        "for i in range(len(y)):\n",
        "  y[i] = np.asarray(y[i]).astype('float32')"
      ],
      "metadata": {
        "id": "74PG4IeTLib5"
      },
      "execution_count": null,
      "outputs": []
    },
    {
      "cell_type": "code",
      "source": [
        "for i in range(len(y_val)):\n",
        "  y_val[i] = np.asarray(y_val[i]).astype('float32')"
      ],
      "metadata": {
        "id": "knMOLKCEpMht"
      },
      "execution_count": null,
      "outputs": []
    },
    {
      "cell_type": "code",
      "source": [
        "X_train, X_test , y_train, y_test = train_test_split(X, y, test_size = 0.2, random_state = 42)\n",
        "##Not using the X_test and y_test anywhere. Using the separately extracted val and test set instead. "
      ],
      "metadata": {
        "id": "UmaT0MyO7nER"
      },
      "execution_count": null,
      "outputs": []
    },
    {
      "cell_type": "code",
      "source": [
        "from tensorflow.keras.optimizers import RMSprop"
      ],
      "metadata": {
        "id": "qceIgDi0wcYD"
      },
      "execution_count": null,
      "outputs": []
    },
    {
      "cell_type": "code",
      "source": [
        "import keras"
      ],
      "metadata": {
        "id": "vDS3Kon86zjS"
      },
      "execution_count": null,
      "outputs": []
    },
    {
      "cell_type": "code",
      "source": [
        "from keras import Sequential\n",
        "from keras.layers.core import Dense, Dropout\n",
        "# from tensorflow.python.keras.optimizers import RMSprop\n",
        "\n",
        "model = Sequential()\n",
        "\n",
        "model.add(Dense(10, input_shape=(31893,), activation = \"relu\"))\n",
        "model.add(Dense(50, activation = \"relu\"))\n",
        "model.add(Dense(1409, activation = \"softmax\"))\n",
        "\n",
        "# Print the summary of the model to view the shape and number of parameters\n",
        "model.summary()"
      ],
      "metadata": {
        "colab": {
          "base_uri": "https://localhost:8080/"
        },
        "id": "0x7jnij68jVI",
        "outputId": "7fde7325-57bf-4645-9d1c-9f50a2da5083"
      },
      "execution_count": null,
      "outputs": [
        {
          "output_type": "stream",
          "name": "stdout",
          "text": [
            "Model: \"sequential_13\"\n",
            "_________________________________________________________________\n",
            " Layer (type)                Output Shape              Param #   \n",
            "=================================================================\n",
            " dense_46 (Dense)            (None, 10)                318940    \n",
            "                                                                 \n",
            " dense_47 (Dense)            (None, 50)                550       \n",
            "                                                                 \n",
            " dense_48 (Dense)            (None, 1409)              71859     \n",
            "                                                                 \n",
            "=================================================================\n",
            "Total params: 391,349\n",
            "Trainable params: 391,349\n",
            "Non-trainable params: 0\n",
            "_________________________________________________________________\n"
          ]
        }
      ]
    },
    {
      "cell_type": "code",
      "source": [
        "model.compile(loss='binary_crossentropy', optimizer='adam', metrics=['accuracy'])"
      ],
      "metadata": {
        "id": "V0xDlhek8zpP"
      },
      "execution_count": null,
      "outputs": []
    },
    {
      "cell_type": "code",
      "source": [
        "his = model.fit(np.array(X_train), np.array(y_train), epochs = 10, verbose = 1,validation_data=(np.array(X_val), np.array(y_val)))"
      ],
      "metadata": {
        "colab": {
          "base_uri": "https://localhost:8080/"
        },
        "id": "AIG6mWD_9wQ6",
        "outputId": "94b8e8a1-67bf-4709-da6e-1c36c9173033"
      },
      "execution_count": null,
      "outputs": [
        {
          "output_type": "stream",
          "name": "stdout",
          "text": [
            "Epoch 1/10\n",
            "69/69 [==============================] - 1s 8ms/step - loss: 0.6414 - accuracy: 0.0014 - val_loss: 0.0623 - val_accuracy: 0.0000e+00\n",
            "Epoch 2/10\n",
            "69/69 [==============================] - 0s 7ms/step - loss: 0.0172 - accuracy: 0.0841 - val_loss: 0.0105 - val_accuracy: 0.0477\n",
            "Epoch 3/10\n",
            "69/69 [==============================] - 0s 7ms/step - loss: 0.0083 - accuracy: 0.1199 - val_loss: 0.0095 - val_accuracy: 0.1339\n",
            "Epoch 4/10\n",
            "69/69 [==============================] - 0s 6ms/step - loss: 0.0072 - accuracy: 0.1254 - val_loss: 0.0088 - val_accuracy: 0.1339\n",
            "Epoch 5/10\n",
            "69/69 [==============================] - 0s 6ms/step - loss: 0.0066 - accuracy: 0.1121 - val_loss: 0.0086 - val_accuracy: 0.1339\n",
            "Epoch 6/10\n",
            "69/69 [==============================] - 0s 6ms/step - loss: 0.0063 - accuracy: 0.1254 - val_loss: 0.0085 - val_accuracy: 0.1339\n",
            "Epoch 7/10\n",
            "69/69 [==============================] - 0s 6ms/step - loss: 0.0061 - accuracy: 0.1254 - val_loss: 0.0086 - val_accuracy: 0.1339\n",
            "Epoch 8/10\n",
            "69/69 [==============================] - 0s 6ms/step - loss: 0.0059 - accuracy: 0.1254 - val_loss: 0.0086 - val_accuracy: 0.1339\n",
            "Epoch 9/10\n",
            "69/69 [==============================] - 0s 6ms/step - loss: 0.0058 - accuracy: 0.1254 - val_loss: 0.0090 - val_accuracy: 0.1339\n",
            "Epoch 10/10\n",
            "69/69 [==============================] - 0s 5ms/step - loss: 0.0058 - accuracy: 0.1107 - val_loss: 0.0090 - val_accuracy: 0.1339\n"
          ]
        }
      ]
    },
    {
      "cell_type": "code",
      "source": [
        "model2 = Sequential()\n",
        "\n",
        "model2.add(Dense(100, input_shape=(31893,), activation = \"relu\"))\n",
        "# model2.add(LSTM(128))\n",
        "model2.add(Dense(64, activation = \"relu\"))\n",
        "model2.add(Dense(10, activation = \"relu\"))\n",
        "model2.add(Dense(1409, activation = \"softmax\"))\n",
        "\n",
        "# Print the summary of the model to view the shape and number of parameters\n",
        "model2.summary()"
      ],
      "metadata": {
        "colab": {
          "base_uri": "https://localhost:8080/"
        },
        "id": "o_-yBOBrq7r5",
        "outputId": "382c330e-ad58-41e9-b138-3e0ada22bb32"
      },
      "execution_count": null,
      "outputs": [
        {
          "output_type": "stream",
          "name": "stdout",
          "text": [
            "Model: \"sequential_16\"\n",
            "_________________________________________________________________\n",
            " Layer (type)                Output Shape              Param #   \n",
            "=================================================================\n",
            " dense_56 (Dense)            (None, 100)               3189400   \n",
            "                                                                 \n",
            " dense_57 (Dense)            (None, 64)                6464      \n",
            "                                                                 \n",
            " dense_58 (Dense)            (None, 10)                650       \n",
            "                                                                 \n",
            " dense_59 (Dense)            (None, 1409)              15499     \n",
            "                                                                 \n",
            "=================================================================\n",
            "Total params: 3,212,013\n",
            "Trainable params: 3,212,013\n",
            "Non-trainable params: 0\n",
            "_________________________________________________________________\n"
          ]
        }
      ]
    },
    {
      "cell_type": "code",
      "source": [
        "model2.compile(loss='binary_crossentropy', optimizer='adam', metrics=['accuracy'])"
      ],
      "metadata": {
        "id": "PDTmzXNoq7ug"
      },
      "execution_count": null,
      "outputs": []
    },
    {
      "cell_type": "code",
      "source": [
        "his2 = model2.fit(np.array(X_train), np.array(y_train), epochs = 10, verbose = 1,validation_data=(np.array(X_val), np.array(y_val)))"
      ],
      "metadata": {
        "colab": {
          "base_uri": "https://localhost:8080/"
        },
        "id": "T8S2xbCVq7xJ",
        "outputId": "ed2c6906-1b91-409c-b806-08db0dd67805"
      },
      "execution_count": null,
      "outputs": [
        {
          "output_type": "stream",
          "name": "stdout",
          "text": [
            "Epoch 1/10\n",
            "69/69 [==============================] - 1s 9ms/step - loss: 0.3272 - accuracy: 0.0110 - val_loss: 0.0097 - val_accuracy: 0.1339\n",
            "Epoch 2/10\n",
            "69/69 [==============================] - 0s 7ms/step - loss: 0.0086 - accuracy: 0.1148 - val_loss: 0.0075 - val_accuracy: 0.1339\n",
            "Epoch 3/10\n",
            "69/69 [==============================] - 0s 6ms/step - loss: 0.0070 - accuracy: 0.1254 - val_loss: 0.0070 - val_accuracy: 0.1339\n",
            "Epoch 4/10\n",
            "69/69 [==============================] - 0s 6ms/step - loss: 0.0068 - accuracy: 0.1254 - val_loss: 0.0068 - val_accuracy: 0.1339\n",
            "Epoch 5/10\n",
            "69/69 [==============================] - 0s 7ms/step - loss: 0.0057 - accuracy: 0.1259 - val_loss: 0.0067 - val_accuracy: 0.1339\n",
            "Epoch 6/10\n",
            "69/69 [==============================] - 0s 6ms/step - loss: 0.0054 - accuracy: 0.1259 - val_loss: 0.0067 - val_accuracy: 0.1358\n",
            "Epoch 7/10\n",
            "69/69 [==============================] - 0s 6ms/step - loss: 0.0052 - accuracy: 0.1272 - val_loss: 0.0066 - val_accuracy: 0.1321\n",
            "Epoch 8/10\n",
            "69/69 [==============================] - 0s 7ms/step - loss: 0.0050 - accuracy: 0.1314 - val_loss: 0.0066 - val_accuracy: 0.1339\n",
            "Epoch 9/10\n",
            "69/69 [==============================] - 0s 6ms/step - loss: 0.0049 - accuracy: 0.1387 - val_loss: 0.0067 - val_accuracy: 0.1248\n",
            "Epoch 10/10\n",
            "69/69 [==============================] - 0s 6ms/step - loss: 0.0048 - accuracy: 0.1415 - val_loss: 0.0067 - val_accuracy: 0.1229\n"
          ]
        }
      ]
    },
    {
      "cell_type": "code",
      "source": [
        "model3 = Sequential()\n",
        "model3.add(Dense(100, input_shape=(31893,), activation = \"relu\"))\n",
        "model3.add(Dense(12, activation = \"relu\"))\n",
        "model3.add(Dropout(0.2))\n",
        "# model3.add(Dense(10, activation = \"relu\"))\n",
        "model3.add(Dense(1409, activation = \"softmax\"))\n",
        "model3.summary()"
      ],
      "metadata": {
        "colab": {
          "base_uri": "https://localhost:8080/"
        },
        "id": "pCZrnLqnq7ya",
        "outputId": "645451a9-e17d-464d-9c2a-fd76b3040a3d"
      },
      "execution_count": null,
      "outputs": [
        {
          "output_type": "stream",
          "name": "stdout",
          "text": [
            "Model: \"sequential_17\"\n",
            "_________________________________________________________________\n",
            " Layer (type)                Output Shape              Param #   \n",
            "=================================================================\n",
            " dense_60 (Dense)            (None, 100)               3189400   \n",
            "                                                                 \n",
            " dense_61 (Dense)            (None, 12)                1212      \n",
            "                                                                 \n",
            " dropout_6 (Dropout)         (None, 12)                0         \n",
            "                                                                 \n",
            " dense_62 (Dense)            (None, 1409)              18317     \n",
            "                                                                 \n",
            "=================================================================\n",
            "Total params: 3,208,929\n",
            "Trainable params: 3,208,929\n",
            "Non-trainable params: 0\n",
            "_________________________________________________________________\n"
          ]
        }
      ]
    },
    {
      "cell_type": "code",
      "source": [
        "model3.compile(loss='binary_crossentropy', optimizer='RMSprop', metrics=['accuracy'])"
      ],
      "metadata": {
        "id": "-TRDb-W3q70x"
      },
      "execution_count": null,
      "outputs": []
    },
    {
      "cell_type": "code",
      "source": [
        "his3 = model3.fit(np.array(X_train), np.array(y_train), epochs = 20, verbose = 1,validation_data=(np.array(X_val), np.array(y_val)))"
      ],
      "metadata": {
        "colab": {
          "base_uri": "https://localhost:8080/"
        },
        "id": "okLy7QQ0q722",
        "outputId": "04172254-44ed-404d-8e25-05c1b7944b72"
      },
      "execution_count": null,
      "outputs": [
        {
          "output_type": "stream",
          "name": "stdout",
          "text": [
            "Epoch 1/20\n",
            "69/69 [==============================] - 1s 10ms/step - loss: 0.6854 - accuracy: 0.0087 - val_loss: 0.6552 - val_accuracy: 0.0000e+00\n",
            "Epoch 2/20\n",
            "69/69 [==============================] - 1s 8ms/step - loss: 0.5493 - accuracy: 0.0514 - val_loss: 0.0670 - val_accuracy: 0.0000e+00\n",
            "Epoch 3/20\n",
            "69/69 [==============================] - 0s 6ms/step - loss: 0.0836 - accuracy: 0.0740 - val_loss: 0.0173 - val_accuracy: 0.1339\n",
            "Epoch 4/20\n",
            "69/69 [==============================] - 1s 8ms/step - loss: 0.0215 - accuracy: 0.1185 - val_loss: 0.0103 - val_accuracy: 0.1339\n",
            "Epoch 5/20\n",
            "69/69 [==============================] - 0s 6ms/step - loss: 0.0301 - accuracy: 0.1236 - val_loss: 0.0203 - val_accuracy: 0.1339\n",
            "Epoch 6/20\n",
            "69/69 [==============================] - 0s 6ms/step - loss: 0.0392 - accuracy: 0.1236 - val_loss: 0.0244 - val_accuracy: 0.1266\n",
            "Epoch 7/20\n",
            "69/69 [==============================] - 0s 6ms/step - loss: 0.0461 - accuracy: 0.1222 - val_loss: 0.0400 - val_accuracy: 0.1358\n",
            "Epoch 8/20\n",
            "69/69 [==============================] - 0s 6ms/step - loss: 0.0495 - accuracy: 0.1213 - val_loss: 0.0621 - val_accuracy: 0.1339\n",
            "Epoch 9/20\n",
            "69/69 [==============================] - 0s 6ms/step - loss: 0.0570 - accuracy: 0.1226 - val_loss: 0.0472 - val_accuracy: 0.0569\n",
            "Epoch 10/20\n",
            "69/69 [==============================] - 0s 6ms/step - loss: 0.0412 - accuracy: 0.1176 - val_loss: 0.0268 - val_accuracy: 0.1009\n",
            "Epoch 11/20\n",
            "69/69 [==============================] - 0s 6ms/step - loss: 0.0373 - accuracy: 0.1203 - val_loss: 0.0249 - val_accuracy: 0.1321\n",
            "Epoch 12/20\n",
            "69/69 [==============================] - 0s 6ms/step - loss: 0.0328 - accuracy: 0.1236 - val_loss: 0.0222 - val_accuracy: 0.1339\n",
            "Epoch 13/20\n",
            "69/69 [==============================] - 0s 6ms/step - loss: 0.0368 - accuracy: 0.1222 - val_loss: 0.0223 - val_accuracy: 0.0734\n",
            "Epoch 14/20\n",
            "69/69 [==============================] - 0s 6ms/step - loss: 0.0395 - accuracy: 0.1194 - val_loss: 0.0287 - val_accuracy: 0.1339\n",
            "Epoch 15/20\n",
            "69/69 [==============================] - 1s 7ms/step - loss: 0.0459 - accuracy: 0.1208 - val_loss: 0.0317 - val_accuracy: 0.1339\n",
            "Epoch 16/20\n",
            "69/69 [==============================] - 0s 6ms/step - loss: 0.0456 - accuracy: 0.1240 - val_loss: 0.0254 - val_accuracy: 0.1339\n",
            "Epoch 17/20\n",
            "69/69 [==============================] - 0s 6ms/step - loss: 0.0334 - accuracy: 0.1259 - val_loss: 0.0267 - val_accuracy: 0.1339\n",
            "Epoch 18/20\n",
            "69/69 [==============================] - 0s 6ms/step - loss: 0.0278 - accuracy: 0.1075 - val_loss: 0.0140 - val_accuracy: 0.1101\n",
            "Epoch 19/20\n",
            "69/69 [==============================] - 0s 6ms/step - loss: 0.0243 - accuracy: 0.1148 - val_loss: 0.0168 - val_accuracy: 0.1339\n",
            "Epoch 20/20\n",
            "69/69 [==============================] - 0s 6ms/step - loss: 0.0291 - accuracy: 0.1213 - val_loss: 0.0187 - val_accuracy: 0.1358\n"
          ]
        }
      ]
    },
    {
      "cell_type": "code",
      "source": [
        "cols = one_hot.columns"
      ],
      "metadata": {
        "id": "jB5iHUXmq7_M"
      },
      "execution_count": null,
      "outputs": []
    },
    {
      "cell_type": "code",
      "source": [
        "pred_y1 = model.predict(np.array(X_val))\n",
        "pred_y2 = model2.predict(np.array(X_val))\n",
        "pred_y3 = model3.predict(np.array(X_val))"
      ],
      "metadata": {
        "id": "kg7lP-bHQhR0"
      },
      "execution_count": null,
      "outputs": []
    },
    {
      "cell_type": "code",
      "source": [
        "pred_model1 = list(np.argmax(pred_y1, axis = 1))\n",
        "pred_model2 = list(np.argmax(pred_y2, axis = 1))\n",
        "pred_model3 = list(np.argmax(pred_y3, axis = 1))"
      ],
      "metadata": {
        "id": "sQB7r7rQyvuE"
      },
      "execution_count": null,
      "outputs": []
    },
    {
      "cell_type": "code",
      "source": [
        "res1 = []\n",
        "res2 = []\n",
        "res3 = []"
      ],
      "metadata": {
        "id": "rzo6juV10iVO"
      },
      "execution_count": null,
      "outputs": []
    },
    {
      "cell_type": "code",
      "source": [
        "for p in pred_model1:\n",
        "  res1.append(cols[p])"
      ],
      "metadata": {
        "id": "5gdtuhwTyxtJ"
      },
      "execution_count": null,
      "outputs": []
    },
    {
      "cell_type": "code",
      "source": [
        "for p in pred_model2:\n",
        "  res2.append(cols[p])"
      ],
      "metadata": {
        "id": "DpMjVc6o0BVx"
      },
      "execution_count": null,
      "outputs": []
    },
    {
      "cell_type": "code",
      "source": [
        "for p in pred_model3:\n",
        "  res3.append(cols[p])"
      ],
      "metadata": {
        "id": "PBsg_IlO08v8"
      },
      "execution_count": null,
      "outputs": []
    },
    {
      "cell_type": "code",
      "source": [
        "df_res1 = pd.DataFrame(res1)\n",
        "df_res2 = pd.DataFrame(res2)\n",
        "df_res3 = pd.DataFrame(res3)\n",
        "df_res1.to_csv(\"res1.csv\", header = None, index = None)\n",
        "df_res2.to_csv(\"res2.csv\", header = None, index = None)\n",
        "df_res2.to_csv(\"res3.csv\", header = None, index = None)"
      ],
      "metadata": {
        "id": "xEiBdLxx1Qos"
      },
      "execution_count": null,
      "outputs": []
    },
    {
      "cell_type": "code",
      "source": [
        "gtlist = [x['answers'] for x in val_data]\n",
        "\n",
        "# Save the accuracies\n",
        "acc_list = []\n",
        "i = 0\n",
        "\n",
        "# Compute accuracy for each image\n",
        "for pred in res1:\n",
        "\n",
        "    # Get the GT answer list and preprocess\n",
        "    gt_ans = gtlist[i] \n",
        "    gt_ans = [x['answer'] for x in gt_ans]\n",
        "    gt_ans = [x.lower() for x in gt_ans]\n",
        "\n",
        "    # Compute accuracy (compare with at least 3 human answers)\n",
        "    cur_acc = np.minimum(1.0, gt_ans.count(pred)/3.0)\n",
        "\n",
        "    acc_list.append(cur_acc)\n",
        "    i +=1\n",
        "##Model 1\n",
        "print ('Accuracy: {}'.format(round(np.mean(acc_list), 2)))"
      ],
      "metadata": {
        "colab": {
          "base_uri": "https://localhost:8080/"
        },
        "id": "oA9us1o91fUl",
        "outputId": "268a6f1c-b8fc-4495-bcda-a836d1c4f055"
      },
      "execution_count": null,
      "outputs": [
        {
          "output_type": "stream",
          "name": "stdout",
          "text": [
            "Accuracy: 0.51\n"
          ]
        }
      ]
    },
    {
      "cell_type": "code",
      "source": [
        "gtlist = [x['answers'] for x in val_data]\n",
        "\n",
        "# Save the accuracies\n",
        "acc_list = []\n",
        "i = 0\n",
        "\n",
        "# Compute accuracy for each image\n",
        "for pred in res2:\n",
        "\n",
        "    # Get the GT answer list and preprocess\n",
        "    gt_ans = gtlist[i] \n",
        "    gt_ans = [x['answer'] for x in gt_ans]\n",
        "    gt_ans = [x.lower() for x in gt_ans]\n",
        "\n",
        "    # Compute accuracy (compare with at least 3 human answers)\n",
        "    cur_acc = np.minimum(1.0, gt_ans.count(pred)/3.0)\n",
        "\n",
        "    acc_list.append(cur_acc)\n",
        "    i +=1\n",
        "##Model 2\n",
        "print ('Accuracy: {}'.format(round(np.mean(acc_list), 2)))"
      ],
      "metadata": {
        "colab": {
          "base_uri": "https://localhost:8080/"
        },
        "id": "8RcJ7mgP4d7G",
        "outputId": "b01700ed-60e8-4830-fb78-d91ab9ee8dbc"
      },
      "execution_count": null,
      "outputs": [
        {
          "output_type": "stream",
          "name": "stdout",
          "text": [
            "Accuracy: 0.48\n"
          ]
        }
      ]
    },
    {
      "cell_type": "code",
      "source": [
        "gtlist = [x['answers'] for x in val_data]\n",
        "\n",
        "# Save the accuracies\n",
        "acc_list = []\n",
        "i = 0\n",
        "\n",
        "# Compute accuracy for each image\n",
        "for pred in res3:\n",
        "\n",
        "    # Get the GT answer list and preprocess\n",
        "    gt_ans = gtlist[i] \n",
        "    gt_ans = [x['answer'] for x in gt_ans]\n",
        "    gt_ans = [x.lower() for x in gt_ans]\n",
        "\n",
        "    # Compute accuracy (compare with at least 3 human answers)\n",
        "    cur_acc = np.minimum(1.0, gt_ans.count(pred)/3.0)\n",
        "\n",
        "    acc_list.append(cur_acc)\n",
        "    i +=1\n",
        "##model 3\n",
        "print ('Accuracy: {}'.format(round(np.mean(acc_list), 2)))"
      ],
      "metadata": {
        "colab": {
          "base_uri": "https://localhost:8080/"
        },
        "id": "D6_RlLVk5T_t",
        "outputId": "94c31ecc-f887-4636-cb35-1d08d81ba324"
      },
      "execution_count": null,
      "outputs": [
        {
          "output_type": "stream",
          "name": "stdout",
          "text": [
            "Accuracy: 0.52\n"
          ]
        }
      ]
    },
    {
      "cell_type": "code",
      "source": [
        "epochs = np.arange(20)\n",
        "epochs = epochs+1"
      ],
      "metadata": {
        "id": "zs22tZ1B5Vd_"
      },
      "execution_count": null,
      "outputs": []
    },
    {
      "cell_type": "code",
      "source": [
        "train_loss = his3.history['loss']\n",
        "val_loss = his3.history['val_loss']\n",
        "train_acc = his3.history['accuracy']\n",
        "val_acc = his3.history['val_accuracy']"
      ],
      "metadata": {
        "id": "UbgaqH7hRh74"
      },
      "execution_count": null,
      "outputs": []
    },
    {
      "cell_type": "code",
      "source": [
        "plt.plot(epochs, train_loss, color = 'green', label = 'Training loss')\n",
        "plt.plot(epochs, val_loss, color = 'blue', label = 'Validation loss')\n",
        "plt.xlabel('Number of epochs')\n",
        "plt.ylabel('Loss')\n",
        "plt.title('Epochs vs Loss curves')\n",
        "plt.legend()\n",
        "plt.show()"
      ],
      "metadata": {
        "colab": {
          "base_uri": "https://localhost:8080/",
          "height": 295
        },
        "id": "9KOcZi6mRy4G",
        "outputId": "34475f6e-3692-4658-8dfa-2810028024c9"
      },
      "execution_count": null,
      "outputs": [
        {
          "output_type": "display_data",
          "data": {
            "text/plain": [
              "<Figure size 432x288 with 1 Axes>"
            ],
            "image/png": "[encoded data removed]"
          },
          "metadata": {
            "needs_background": "light"
          }
        }
      ]
    },
    {
      "cell_type": "code",
      "source": [
        "plt.plot(epochs, train_acc, color = 'green', label = 'Training Accuracy')\n",
        "plt.plot(epochs, val_acc, color = 'blue', label = 'Validation Accuracy')\n",
        "plt.xlabel('Number of epochs')\n",
        "plt.ylabel('Accuracy')\n",
        "plt.title('Epochs vs Accuracy curves')\n",
        "plt.legend()\n",
        "plt.show()"
      ],
      "metadata": {
        "colab": {
          "base_uri": "https://localhost:8080/",
          "height": 295
        },
        "id": "G203EAMeSDSx",
        "outputId": "53eeac26-3e34-44a0-c8dd-d8dd2d2eb2df"
      },
      "execution_count": null,
      "outputs": [
        {
          "output_type": "display_data",
          "data": {
            "text/plain": [
              "<Figure size 432x288 with 1 Axes>"
            ],
            "image/png": "[encoded data removed]"
          },
          "metadata": {
            "needs_background": "light"
          }
        }
      ]
    },
    {
      "cell_type": "code",
      "source": [
        "##Extracting test data and creating feature vectors to predict output\n",
        "\n",
        "num_val = 1000\n",
        "\n",
        "url_val = []\n",
        "name_val = []\n",
        "img_ft_val = []\n",
        "ques_val = []\n",
        "ques_ft_val = []\n",
        "ft_val = []\n",
        "\n",
        "for vq in test_data[0:num_val]:\n",
        "  # Extract features describing the image\n",
        "  image_name = vq['image']\n",
        "  name_val.append(image_name)\n",
        "  image_url = img_dir + image_name\n",
        "  url_val.append(image_url)\n",
        "  image_feature = extract_image_features(image_url)\n",
        "  img_ft_val.append(image_feature)\n",
        "\n",
        "  # Extract features describing the question\n",
        "  question = vq['question']\n",
        "  ques_val.append(question)\n",
        "  question_feature = extract_question_features(question)\n",
        "  ques_ft_val.append(question_feature)\n",
        "\n",
        "  # Create a multimodal feature to represent both the image and question (e.g. concatenate, multiply, etc.)\n",
        "  multimodal_features = np.concatenate((question_feature, image_feature))\n",
        "  ft_val.append(multimodal_features)\n"
      ],
      "metadata": {
        "id": "WbzMuIeCS9qf"
      },
      "execution_count": null,
      "outputs": []
    },
    {
      "cell_type": "code",
      "source": [
        "X_TEST = ft_val"
      ],
      "metadata": {
        "id": "0YC0eAPaV3aq"
      },
      "execution_count": null,
      "outputs": []
    },
    {
      "cell_type": "code",
      "source": [
        "pred_tets = model.predict(np.array(X_TEST))"
      ],
      "metadata": {
        "id": "6NjzHclvabBE"
      },
      "execution_count": null,
      "outputs": []
    },
    {
      "cell_type": "code",
      "source": [
        "pred_test = list(np.argmax(pred_tets, axis = 1))"
      ],
      "metadata": {
        "id": "24KhC_v0ahJt"
      },
      "execution_count": null,
      "outputs": []
    },
    {
      "cell_type": "code",
      "source": [
        "results = []"
      ],
      "metadata": {
        "id": "vSRtKEA-ajVQ"
      },
      "execution_count": null,
      "outputs": []
    },
    {
      "cell_type": "code",
      "source": [
        "for p in pred_test:\n",
        "  results.append(cols[p])"
      ],
      "metadata": {
        "id": "eXum3pSmatn5"
      },
      "execution_count": null,
      "outputs": []
    },
    {
      "cell_type": "code",
      "source": [
        "df_res = pd.DataFrame(results)\n",
        "df_res.to_csv(\"results.csv\", header = None, index = None)"
      ],
      "metadata": {
        "id": "PDlPjUCiax5S"
      },
      "execution_count": null,
      "outputs": []
    },
    {
      "cell_type": "code",
      "source": [
        ""
      ],
      "metadata": {
        "id": "aG6cqjcja_SF"
      },
      "execution_count": null,
      "outputs": []
    }
  ]
}